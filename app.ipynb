{
 "cells": [
  {
   "cell_type": "code",
   "execution_count": 1,
   "metadata": {},
   "outputs": [
    {
     "ename": "ModuleNotFoundError",
     "evalue": "No module named 'sweetviz'",
     "output_type": "error",
     "traceback": [
      "\u001b[1;31m---------------------------------------------------------------------------\u001b[0m",
      "\u001b[1;31mModuleNotFoundError\u001b[0m                       Traceback (most recent call last)",
      "\u001b[1;32m<ipython-input-1-7e158e46e0ea>\u001b[0m in \u001b[0;36m<module>\u001b[1;34m\u001b[0m\n\u001b[1;32m----> 1\u001b[1;33m \u001b[1;32mimport\u001b[0m \u001b[0msweetviz\u001b[0m \u001b[1;32mas\u001b[0m \u001b[0msv\u001b[0m\u001b[1;33m\u001b[0m\u001b[1;33m\u001b[0m\u001b[0m\n\u001b[0m\u001b[0;32m      2\u001b[0m \u001b[1;32mfrom\u001b[0m \u001b[0mpywebio\u001b[0m\u001b[1;33m.\u001b[0m\u001b[0mplatform\u001b[0m\u001b[1;33m.\u001b[0m\u001b[0mflask\u001b[0m \u001b[1;32mimport\u001b[0m \u001b[0mwebio_view\u001b[0m\u001b[1;33m\u001b[0m\u001b[1;33m\u001b[0m\u001b[0m\n\u001b[0;32m      3\u001b[0m \u001b[1;32mfrom\u001b[0m \u001b[0mpywebio\u001b[0m \u001b[1;32mimport\u001b[0m \u001b[0mSTATIC_PATH\u001b[0m\u001b[1;33m\u001b[0m\u001b[1;33m\u001b[0m\u001b[0m\n\u001b[0;32m      4\u001b[0m \u001b[1;32mfrom\u001b[0m \u001b[0mflask\u001b[0m \u001b[1;32mimport\u001b[0m \u001b[0mFlask\u001b[0m\u001b[1;33m,\u001b[0m\u001b[0msend_from_directory\u001b[0m\u001b[1;33m\u001b[0m\u001b[1;33m\u001b[0m\u001b[0m\n\u001b[0;32m      5\u001b[0m \u001b[1;32mimport\u001b[0m \u001b[0mpandas\u001b[0m \u001b[1;32mas\u001b[0m \u001b[0mpd\u001b[0m\u001b[1;33m\u001b[0m\u001b[1;33m\u001b[0m\u001b[0m\n",
      "\u001b[1;31mModuleNotFoundError\u001b[0m: No module named 'sweetviz'"
     ]
    }
   ],
   "source": [
    "import sweetviz as sv\n",
    "from pywebio.platform.flask import webio_view\n",
    "from pywebio import STATIC_PATH\n",
    "from flask import Flask,send_from_directory\n",
    "import pandas as pd\n",
    "from pywebio.input import file_upload\n",
    "from pywebio.output import put_html,put_loading\n",
    "from pywebio import start_server\n",
    "import csv\n",
    "import re\n",
    "import argparse\n",
    "import nest_asyncio\n",
    "nest_asyncio.apply()"
   ]
  },
  {
   "cell_type": "code",
   "execution_count": null,
   "metadata": {},
   "outputs": [],
   "source": [
    "app=Flask(__name__)\n",
    "\n",
    "def apps():\n",
    "    file=file_upload(label='Upload CSV file', accept='.csv')\n",
    "    content=file['content'].decode('utf-8').splitlines()\n",
    "    \n",
    "    df=content_pandas(content)\n",
    "    create_profile_info(df)\n",
    "    \n",
    "def create_profile_info(df: pd.DataFrame):\n",
    "    with put_loading(shape='grow'):\n",
    "        report=sv.analyze(df)\n",
    "        report.show_html()\n",
    "    with open('SWEETVIZ_REPORT.html','r')as f:\n",
    "        html=f.read()\n",
    "        put_html(html)\n",
    "\n",
    "def content_pandas(content: list):\n",
    "    with open(\"tmp.csv\",\"w\") as csv_file:\n",
    "        writer=csv.writer(csv_file,delimiter='\\t')\n",
    "        for line in content:\n",
    "            writer.writerow(re.split('\\st',line))\n",
    "        return pd.read_csv(\"tmp.csv\")\n",
    "\n",
    "#if __name__ == '__main__':\n",
    "    #parser = argparse.ArgumentParser()\n",
    "    #parser.add_argument(\"-p\", \"--port\", type=int, default=8080)\n",
    "    #args = parser.parse_args()\n",
    "    \n",
    "app.add_url_rule('/hello','webio_view',webio_view(apps),methods=['GET','POST','OPTIONS'])\n",
    "\n",
    "app.run(host='localhost',port=80)\n",
    "    \n",
    "#start_server(app,port=36535,debug=True)"
   ]
  }
 ],
 "metadata": {
  "kernelspec": {
   "display_name": "Python 3",
   "language": "python",
   "name": "python3"
  },
  "language_info": {
   "codemirror_mode": {
    "name": "ipython",
    "version": 3
   },
   "file_extension": ".py",
   "mimetype": "text/x-python",
   "name": "python",
   "nbconvert_exporter": "python",
   "pygments_lexer": "ipython3",
   "version": "3.7.5"
  }
 },
 "nbformat": 4,
 "nbformat_minor": 4
}
